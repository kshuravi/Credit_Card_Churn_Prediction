{
  "nbformat": 4,
  "nbformat_minor": 0,
  "metadata": {
    "colab": {
      "name": "Churn_Probability_Prediction.ipynb",
      "provenance": [],
      "collapsed_sections": [],
      "authorship_tag": "ABX9TyPplraqsXGU3Tp5anSu+Uwi",
      "include_colab_link": true
    },
    "kernelspec": {
      "name": "python3",
      "display_name": "Python 3"
    },
    "language_info": {
      "name": "python"
    }
  },
  "cells": [
    {
      "cell_type": "markdown",
      "metadata": {
        "id": "view-in-github",
        "colab_type": "text"
      },
      "source": [
        "<a href=\"https://colab.research.google.com/github/kshuravi/Credit_Card_Churn_Prediction/blob/main/Churn_Probability_Prediction.ipynb\" target=\"_parent\"><img src=\"https://colab.research.google.com/assets/colab-badge.svg\" alt=\"Open In Colab\"/></a>"
      ]
    },
    {
      "cell_type": "markdown",
      "metadata": {
        "id": "XB9mCkCLSXFa"
      },
      "source": [
        "## Introduction"
      ]
    },
    {
      "cell_type": "markdown",
      "metadata": {
        "id": "Ex2rtDWpSW7I"
      },
      "source": [
        "This project is mainly focused on predicting a client's probability of churning their credit card account. For that the overall performance of the prediction must be high. I have included some machine learning models to find out the accuracy of their predictions. Based on the high performance prediction, the probability of churning accounts was added for each customer. Furthermore, based on the new acquired dataset, I analyzed how to prevent customers from churning their accounts.\n",
        "\n",
        "The dataset that I'm using is from kaggle.\n",
        "Here is the link. https://www.kaggle.com/sakshigoyal7/credit-card-customers \n",
        "\n",
        "I cleaned and preprocessed the data before carrying out the testing and training."
      ]
    },
    {
      "cell_type": "markdown",
      "metadata": {
        "id": "edkgTeBQUBhz"
      },
      "source": [
        "## Importing the necessary libraries"
      ]
    },
    {
      "cell_type": "code",
      "metadata": {
        "id": "T1UUwcVxRruH",
        "colab": {
          "base_uri": "https://localhost:8080/"
        },
        "outputId": "f0a58d98-779f-4f7e-9274-cc12d011409f"
      },
      "source": [
        "import numpy as np\n",
        "import pandas as pd \n",
        "import matplotlib.pyplot as plt \n",
        "import seaborn as sns\n",
        "sns.set()\n",
        "from sklearn.metrics import classification_report, confusion_matrix, accuracy_score, recall_score, roc_auc_score, precision_score\n",
        "%matplotlib inline\n",
        "from sklearn.linear_model import LogisticRegression\n",
        "from sklearn.neighbors import KNeighborsClassifier\n",
        "from sklearn.svm import SVC\n",
        "from sklearn.tree import DecisionTreeClassifier\n",
        "from sklearn.ensemble import RandomForestClassifier\n",
        "from sklearn import metrics\n",
        "from sklearn.preprocessing import StandardScaler\n",
        "from imblearn.over_sampling import RandomOverSampler\n",
        "from collections import Counter\n",
        "from sklearn.model_selection import train_test_split"
      ],
      "execution_count": 1,
      "outputs": [
        {
          "output_type": "stream",
          "text": [
            "/usr/local/lib/python3.7/dist-packages/sklearn/externals/six.py:31: FutureWarning: The module is deprecated in version 0.21 and will be removed in version 0.23 since we've dropped support for Python 2.7. Please rely on the official version of six (https://pypi.org/project/six/).\n",
            "  \"(https://pypi.org/project/six/).\", FutureWarning)\n",
            "/usr/local/lib/python3.7/dist-packages/sklearn/utils/deprecation.py:144: FutureWarning: The sklearn.neighbors.base module is  deprecated in version 0.22 and will be removed in version 0.24. The corresponding classes / functions should instead be imported from sklearn.neighbors. Anything that cannot be imported from sklearn.neighbors is now part of the private API.\n",
            "  warnings.warn(message, FutureWarning)\n"
          ],
          "name": "stderr"
        }
      ]
    },
    {
      "cell_type": "code",
      "metadata": {
        "id": "kplusw2VULMR"
      },
      "source": [
        ""
      ],
      "execution_count": null,
      "outputs": []
    },
    {
      "cell_type": "markdown",
      "metadata": {
        "id": "ql2SgKeWUKis"
      },
      "source": [
        "##Importing the dataset"
      ]
    },
    {
      "cell_type": "code",
      "metadata": {
        "colab": {
          "resources": {
            "http://localhost:8080/nbextensions/google.colab/files.js": {
              "data": "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",
              "ok": true,
              "headers": [
                [
                  "content-type",
                  "application/javascript"
                ]
              ],
              "status": 200,
              "status_text": ""
            }
          },
          "base_uri": "https://localhost:8080/",
          "height": 91
        },
        "id": "jqTkUQo2R7Dr",
        "outputId": "55781436-6e7a-4485-be5c-c698d42d831e"
      },
      "source": [
        "from google.colab import files\n",
        "files.upload()"
      ],
      "execution_count": 2,
      "outputs": [
        {
          "output_type": "display_data",
          "data": {
            "text/html": [
              "\n",
              "     <input type=\"file\" id=\"files-cd07756b-c35d-410a-bc7a-b312ab318a3a\" name=\"files[]\" multiple disabled\n",
              "        style=\"border:none\" />\n",
              "     <output id=\"result-cd07756b-c35d-410a-bc7a-b312ab318a3a\">\n",
              "      Upload widget is only available when the cell has been executed in the\n",
              "      current browser session. Please rerun this cell to enable.\n",
              "      </output>\n",
              "      <script src=\"/nbextensions/google.colab/files.js\"></script> "
            ],
            "text/plain": [
              "<IPython.core.display.HTML object>"
            ]
          },
          "metadata": {
            "tags": []
          }
        },
        {
          "output_type": "stream",
          "text": [
            "Saving kaggle.json to kaggle.json\n"
          ],
          "name": "stdout"
        },
        {
          "output_type": "execute_result",
          "data": {
            "text/plain": [
              "{'kaggle.json': b'{\"username\":\"kshuravi\",\"key\":\"c5b8516c7c0691ddf59fc4765d40f732\"}'}"
            ]
          },
          "metadata": {
            "tags": []
          },
          "execution_count": 2
        }
      ]
    },
    {
      "cell_type": "code",
      "metadata": {
        "id": "8vG6Y216gXxW",
        "colab": {
          "base_uri": "https://localhost:8080/"
        },
        "outputId": "74357741-f57e-48cc-bfd4-3921aca30e28"
      },
      "source": [
        "!mkdir -p ~/.kaggle\n",
        "!cp kaggle.json ~/.kaggle/\n",
        "!chmod 600 ~/.kaggle/kaggle.json\n",
        "!kaggle datasets download -d sakshigoyal7/credit-card-customers"
      ],
      "execution_count": 3,
      "outputs": [
        {
          "output_type": "stream",
          "text": [
            "Downloading credit-card-customers.zip to /content\n",
            "\r  0% 0.00/379k [00:00<?, ?B/s]\n",
            "\r100% 379k/379k [00:00<00:00, 57.1MB/s]\n"
          ],
          "name": "stdout"
        }
      ]
    },
    {
      "cell_type": "code",
      "metadata": {
        "colab": {
          "base_uri": "https://localhost:8080/"
        },
        "id": "EOkYafq4maQ2",
        "outputId": "289062bb-1e3a-46ef-edc4-3510932d7ef3"
      },
      "source": [
        "from zipfile import ZipFile\n",
        "file_name=\"credit-card-customers.zip\"\n",
        "\n",
        "with ZipFile(file_name,'r') as zipfile:\n",
        "  zipfile.extractall()\n",
        "  print('Done')"
      ],
      "execution_count": 4,
      "outputs": [
        {
          "output_type": "stream",
          "text": [
            "Done\n"
          ],
          "name": "stdout"
        }
      ]
    },
    {
      "cell_type": "code",
      "metadata": {
        "colab": {
          "base_uri": "https://localhost:8080/",
          "height": 312
        },
        "id": "uKtYWVbSn3pk",
        "outputId": "5739ff17-729e-47ed-eeb4-8242cda22978"
      },
      "source": [
        "data_all = pd.read_csv('BankChurners.csv')\n",
        "data_all.head()"
      ],
      "execution_count": 5,
      "outputs": [
        {
          "output_type": "execute_result",
          "data": {
            "text/html": [
              "<div>\n",
              "<style scoped>\n",
              "    .dataframe tbody tr th:only-of-type {\n",
              "        vertical-align: middle;\n",
              "    }\n",
              "\n",
              "    .dataframe tbody tr th {\n",
              "        vertical-align: top;\n",
              "    }\n",
              "\n",
              "    .dataframe thead th {\n",
              "        text-align: right;\n",
              "    }\n",
              "</style>\n",
              "<table border=\"1\" class=\"dataframe\">\n",
              "  <thead>\n",
              "    <tr style=\"text-align: right;\">\n",
              "      <th></th>\n",
              "      <th>CLIENTNUM</th>\n",
              "      <th>Attrition_Flag</th>\n",
              "      <th>Customer_Age</th>\n",
              "      <th>Gender</th>\n",
              "      <th>Dependent_count</th>\n",
              "      <th>Education_Level</th>\n",
              "      <th>Marital_Status</th>\n",
              "      <th>Income_Category</th>\n",
              "      <th>Card_Category</th>\n",
              "      <th>Months_on_book</th>\n",
              "      <th>Total_Relationship_Count</th>\n",
              "      <th>Months_Inactive_12_mon</th>\n",
              "      <th>Contacts_Count_12_mon</th>\n",
              "      <th>Credit_Limit</th>\n",
              "      <th>Total_Revolving_Bal</th>\n",
              "      <th>Avg_Open_To_Buy</th>\n",
              "      <th>Total_Amt_Chng_Q4_Q1</th>\n",
              "      <th>Total_Trans_Amt</th>\n",
              "      <th>Total_Trans_Ct</th>\n",
              "      <th>Total_Ct_Chng_Q4_Q1</th>\n",
              "      <th>Avg_Utilization_Ratio</th>\n",
              "      <th>Naive_Bayes_Classifier_Attrition_Flag_Card_Category_Contacts_Count_12_mon_Dependent_count_Education_Level_Months_Inactive_12_mon_1</th>\n",
              "      <th>Naive_Bayes_Classifier_Attrition_Flag_Card_Category_Contacts_Count_12_mon_Dependent_count_Education_Level_Months_Inactive_12_mon_2</th>\n",
              "    </tr>\n",
              "  </thead>\n",
              "  <tbody>\n",
              "    <tr>\n",
              "      <th>0</th>\n",
              "      <td>768805383</td>\n",
              "      <td>Existing Customer</td>\n",
              "      <td>45</td>\n",
              "      <td>M</td>\n",
              "      <td>3</td>\n",
              "      <td>High School</td>\n",
              "      <td>Married</td>\n",
              "      <td>$60K - $80K</td>\n",
              "      <td>Blue</td>\n",
              "      <td>39</td>\n",
              "      <td>5</td>\n",
              "      <td>1</td>\n",
              "      <td>3</td>\n",
              "      <td>12691.0</td>\n",
              "      <td>777</td>\n",
              "      <td>11914.0</td>\n",
              "      <td>1.335</td>\n",
              "      <td>1144</td>\n",
              "      <td>42</td>\n",
              "      <td>1.625</td>\n",
              "      <td>0.061</td>\n",
              "      <td>0.000093</td>\n",
              "      <td>0.99991</td>\n",
              "    </tr>\n",
              "    <tr>\n",
              "      <th>1</th>\n",
              "      <td>818770008</td>\n",
              "      <td>Existing Customer</td>\n",
              "      <td>49</td>\n",
              "      <td>F</td>\n",
              "      <td>5</td>\n",
              "      <td>Graduate</td>\n",
              "      <td>Single</td>\n",
              "      <td>Less than $40K</td>\n",
              "      <td>Blue</td>\n",
              "      <td>44</td>\n",
              "      <td>6</td>\n",
              "      <td>1</td>\n",
              "      <td>2</td>\n",
              "      <td>8256.0</td>\n",
              "      <td>864</td>\n",
              "      <td>7392.0</td>\n",
              "      <td>1.541</td>\n",
              "      <td>1291</td>\n",
              "      <td>33</td>\n",
              "      <td>3.714</td>\n",
              "      <td>0.105</td>\n",
              "      <td>0.000057</td>\n",
              "      <td>0.99994</td>\n",
              "    </tr>\n",
              "    <tr>\n",
              "      <th>2</th>\n",
              "      <td>713982108</td>\n",
              "      <td>Existing Customer</td>\n",
              "      <td>51</td>\n",
              "      <td>M</td>\n",
              "      <td>3</td>\n",
              "      <td>Graduate</td>\n",
              "      <td>Married</td>\n",
              "      <td>$80K - $120K</td>\n",
              "      <td>Blue</td>\n",
              "      <td>36</td>\n",
              "      <td>4</td>\n",
              "      <td>1</td>\n",
              "      <td>0</td>\n",
              "      <td>3418.0</td>\n",
              "      <td>0</td>\n",
              "      <td>3418.0</td>\n",
              "      <td>2.594</td>\n",
              "      <td>1887</td>\n",
              "      <td>20</td>\n",
              "      <td>2.333</td>\n",
              "      <td>0.000</td>\n",
              "      <td>0.000021</td>\n",
              "      <td>0.99998</td>\n",
              "    </tr>\n",
              "    <tr>\n",
              "      <th>3</th>\n",
              "      <td>769911858</td>\n",
              "      <td>Existing Customer</td>\n",
              "      <td>40</td>\n",
              "      <td>F</td>\n",
              "      <td>4</td>\n",
              "      <td>High School</td>\n",
              "      <td>Unknown</td>\n",
              "      <td>Less than $40K</td>\n",
              "      <td>Blue</td>\n",
              "      <td>34</td>\n",
              "      <td>3</td>\n",
              "      <td>4</td>\n",
              "      <td>1</td>\n",
              "      <td>3313.0</td>\n",
              "      <td>2517</td>\n",
              "      <td>796.0</td>\n",
              "      <td>1.405</td>\n",
              "      <td>1171</td>\n",
              "      <td>20</td>\n",
              "      <td>2.333</td>\n",
              "      <td>0.760</td>\n",
              "      <td>0.000134</td>\n",
              "      <td>0.99987</td>\n",
              "    </tr>\n",
              "    <tr>\n",
              "      <th>4</th>\n",
              "      <td>709106358</td>\n",
              "      <td>Existing Customer</td>\n",
              "      <td>40</td>\n",
              "      <td>M</td>\n",
              "      <td>3</td>\n",
              "      <td>Uneducated</td>\n",
              "      <td>Married</td>\n",
              "      <td>$60K - $80K</td>\n",
              "      <td>Blue</td>\n",
              "      <td>21</td>\n",
              "      <td>5</td>\n",
              "      <td>1</td>\n",
              "      <td>0</td>\n",
              "      <td>4716.0</td>\n",
              "      <td>0</td>\n",
              "      <td>4716.0</td>\n",
              "      <td>2.175</td>\n",
              "      <td>816</td>\n",
              "      <td>28</td>\n",
              "      <td>2.500</td>\n",
              "      <td>0.000</td>\n",
              "      <td>0.000022</td>\n",
              "      <td>0.99998</td>\n",
              "    </tr>\n",
              "  </tbody>\n",
              "</table>\n",
              "</div>"
            ],
            "text/plain": [
              "   CLIENTNUM  ... Naive_Bayes_Classifier_Attrition_Flag_Card_Category_Contacts_Count_12_mon_Dependent_count_Education_Level_Months_Inactive_12_mon_2\n",
              "0  768805383  ...                                            0.99991                                                                                \n",
              "1  818770008  ...                                            0.99994                                                                                \n",
              "2  713982108  ...                                            0.99998                                                                                \n",
              "3  769911858  ...                                            0.99987                                                                                \n",
              "4  709106358  ...                                            0.99998                                                                                \n",
              "\n",
              "[5 rows x 23 columns]"
            ]
          },
          "metadata": {
            "tags": []
          },
          "execution_count": 5
        }
      ]
    },
    {
      "cell_type": "code",
      "metadata": {
        "id": "NAfGq8uOVEUM"
      },
      "source": [
        ""
      ],
      "execution_count": null,
      "outputs": []
    },
    {
      "cell_type": "markdown",
      "metadata": {
        "id": "kN4J_xWKVEqv"
      },
      "source": [
        "##  Cleaning the data, identifying and handling the missing values."
      ]
    },
    {
      "cell_type": "markdown",
      "metadata": {
        "id": "bQmP12qBVN3t"
      },
      "source": [
        "Notice that the last two columns are unnecesary. So, I'm removing them and also making sure if the dataset has any null value."
      ]
    },
    {
      "cell_type": "code",
      "metadata": {
        "id": "YBv1wloKSWaj",
        "colab": {
          "base_uri": "https://localhost:8080/"
        },
        "outputId": "6acf7e1e-21fa-4263-e719-5fa3c22754b8"
      },
      "source": [
        "data = data_all.drop(['Naive_Bayes_Classifier_Attrition_Flag_Card_Category_Contacts_Count_12_mon_Dependent_count_Education_Level_Months_Inactive_12_mon_1', 'Naive_Bayes_Classifier_Attrition_Flag_Card_Category_Contacts_Count_12_mon_Dependent_count_Education_Level_Months_Inactive_12_mon_2'], axis=1)\n",
        "data.isnull().values.any()"
      ],
      "execution_count": 6,
      "outputs": [
        {
          "output_type": "execute_result",
          "data": {
            "text/plain": [
              "False"
            ]
          },
          "metadata": {
            "tags": []
          },
          "execution_count": 6
        }
      ]
    },
    {
      "cell_type": "markdown",
      "metadata": {
        "id": "Ral4HL2LVfhS"
      },
      "source": [
        "It's true there is no null rows but there could be non null values which do not show proper values as well. So looking over to the categorical features."
      ]
    },
    {
      "cell_type": "code",
      "metadata": {
        "colab": {
          "base_uri": "https://localhost:8080/"
        },
        "id": "8YrQl_bwrj8C",
        "outputId": "ab1afab9-5c56-4f4d-97a7-f578768f27c9"
      },
      "source": [
        "{column: list(data[column].unique()) for column in data.select_dtypes('object').columns}"
      ],
      "execution_count": 7,
      "outputs": [
        {
          "output_type": "execute_result",
          "data": {
            "text/plain": [
              "{'Attrition_Flag': ['Existing Customer', 'Attrited Customer'],\n",
              " 'Card_Category': ['Blue', 'Gold', 'Silver', 'Platinum'],\n",
              " 'Education_Level': ['High School',\n",
              "  'Graduate',\n",
              "  'Uneducated',\n",
              "  'Unknown',\n",
              "  'College',\n",
              "  'Post-Graduate',\n",
              "  'Doctorate'],\n",
              " 'Gender': ['M', 'F'],\n",
              " 'Income_Category': ['$60K - $80K',\n",
              "  'Less than $40K',\n",
              "  '$80K - $120K',\n",
              "  '$40K - $60K',\n",
              "  '$120K +',\n",
              "  'Unknown'],\n",
              " 'Marital_Status': ['Married', 'Single', 'Unknown', 'Divorced']}"
            ]
          },
          "metadata": {
            "tags": []
          },
          "execution_count": 7
        }
      ]
    },
    {
      "cell_type": "markdown",
      "metadata": {
        "id": "n40aweZfVycq"
      },
      "source": [
        "Some of the categorical features contain the category named \"Unknown\".\n",
        "\n",
        "So replacing the ordinal categorical Unknowns with the mode of the feature.\n",
        "Keeping the features which have nominal categories as it is. They will be taken care of later."
      ]
    },
    {
      "cell_type": "code",
      "metadata": {
        "colab": {
          "base_uri": "https://localhost:8080/"
        },
        "id": "Ff820QuaQ01L",
        "outputId": "397600ae-2a5f-4a5b-de9d-d07d2079a520"
      },
      "source": [
        "print(\"Mode of Education_Level:\\n\", data['Education_Level'].mode())\n",
        "print(\"\\nMode of Income_Category:\\n\", data['Income_Category'].mode())"
      ],
      "execution_count": 8,
      "outputs": [
        {
          "output_type": "stream",
          "text": [
            "Mode of Education_Level:\n",
            " 0    Graduate\n",
            "dtype: object\n",
            "\n",
            "Mode of Income_Category:\n",
            " 0    Less than $40K\n",
            "dtype: object\n"
          ],
          "name": "stdout"
        }
      ]
    },
    {
      "cell_type": "code",
      "metadata": {
        "id": "dGdZMOIopX-S"
      },
      "source": [
        "# Encode unknown values as np.NaN\n",
        "data = data.replace('Unknown', np.NaN)\n",
        "    \n",
        "# Fill ordinal missing values with modes (Education_Level and Income_Category columns)\n",
        "data['Education_Level'] = data['Education_Level'].fillna('Graduate')\n",
        "data['Income_Category'] = data['Income_Category'].fillna('Less than $40K')\n",
        "\n",
        "data = data.replace(np.NaN, 'Unknown')"
      ],
      "execution_count": 9,
      "outputs": []
    },
    {
      "cell_type": "markdown",
      "metadata": {
        "id": "eeMeAU3k6MOo"
      },
      "source": [
        "Unknown Categories from \"Education_Level\" and \"Income_Category\" have been replaced with the mode of the feature"
      ]
    },
    {
      "cell_type": "code",
      "metadata": {
        "colab": {
          "base_uri": "https://localhost:8080/"
        },
        "id": "b42w8WLnWiXB",
        "outputId": "5b6ad2df-e458-40ff-a45d-4af179cd6aac"
      },
      "source": [
        "{column: list(data[column].unique()) for column in data.select_dtypes('object').columns}"
      ],
      "execution_count": 10,
      "outputs": [
        {
          "output_type": "execute_result",
          "data": {
            "text/plain": [
              "{'Attrition_Flag': ['Existing Customer', 'Attrited Customer'],\n",
              " 'Card_Category': ['Blue', 'Gold', 'Silver', 'Platinum'],\n",
              " 'Education_Level': ['High School',\n",
              "  'Graduate',\n",
              "  'Uneducated',\n",
              "  'College',\n",
              "  'Post-Graduate',\n",
              "  'Doctorate'],\n",
              " 'Gender': ['M', 'F'],\n",
              " 'Income_Category': ['$60K - $80K',\n",
              "  'Less than $40K',\n",
              "  '$80K - $120K',\n",
              "  '$40K - $60K',\n",
              "  '$120K +'],\n",
              " 'Marital_Status': ['Married', 'Single', 'Unknown', 'Divorced']}"
            ]
          },
          "metadata": {
            "tags": []
          },
          "execution_count": 10
        }
      ]
    },
    {
      "cell_type": "code",
      "metadata": {
        "id": "6F6uHFicWiZt"
      },
      "source": [
        ""
      ],
      "execution_count": null,
      "outputs": []
    },
    {
      "cell_type": "markdown",
      "metadata": {
        "id": "O84OuVe-W0Zv"
      },
      "source": [
        "## Resampling the data"
      ]
    },
    {
      "cell_type": "code",
      "metadata": {
        "colab": {
          "base_uri": "https://localhost:8080/",
          "height": 319
        },
        "id": "mH0mATocWigM",
        "outputId": "ee3ddc1c-59af-46c2-be00-e3be2bbc8dc9"
      },
      "source": [
        "count_classes = pd.value_counts(data['Attrition_Flag'], sort = True)\n",
        "count_classes.plot(kind = 'bar', rot=0)\n",
        "plt.title(\"Attrition Flag Distribution\")\n",
        "plt.xlabel(\"Attrition_Flag\")\n",
        "plt.ylabel(\"Frequency\")"
      ],
      "execution_count": 11,
      "outputs": [
        {
          "output_type": "execute_result",
          "data": {
            "text/plain": [
              "Text(0, 0.5, 'Frequency')"
            ]
          },
          "metadata": {
            "tags": []
          },
          "execution_count": 11
        },
        {
          "output_type": "display_data",
          "data": {
            "image/png": "[encoded data removed]",
            "text/plain": [
              "<Figure size 432x288 with 1 Axes>"
            ]
          },
          "metadata": {
            "tags": [],
            "needs_background": "light"
          }
        }
      ]
    },
    {
      "cell_type": "markdown",
      "metadata": {
        "id": "mP9dshsfXC3u"
      },
      "source": [
        "There is a huge class imbalance among the Attrition_Flag samples. Therefore, resampling is needed. I am choosing Oversampling because I do not want to lose any data."
      ]
    },
    {
      "cell_type": "code",
      "metadata": {
        "id": "ca1HA0hrsqTM",
        "colab": {
          "base_uri": "https://localhost:8080/"
        },
        "outputId": "84bd8fb8-9e1c-442f-f444-9c74d98514dd"
      },
      "source": [
        "# Find the number of churned and not churned accounts\n",
        "churned = data[data['Attrition_Flag']=='Attrited Customer']\n",
        "not_churned = data[data['Attrition_Flag']=='Existing Customer']\n",
        "\n",
        "print(churned.shape,not_churned.shape)"
      ],
      "execution_count": 12,
      "outputs": [
        {
          "output_type": "stream",
          "text": [
            "(1627, 21) (8500, 21)\n"
          ],
          "name": "stdout"
        }
      ]
    },
    {
      "cell_type": "code",
      "metadata": {
        "colab": {
          "base_uri": "https://localhost:8080/"
        },
        "id": "pDBjDkSzU37c",
        "outputId": "73a06da5-9436-463e-9423-388e05ec4488"
      },
      "source": [
        "#Drop Attrition_Flag from dataset\n",
        "X = data.drop(['Attrition_Flag'], axis=1)\n",
        "#Get target\n",
        "y = data['Attrition_Flag']\n",
        "\n",
        "print(X.shape)\n",
        "print(y.shape)"
      ],
      "execution_count": 13,
      "outputs": [
        {
          "output_type": "stream",
          "text": [
            "(10127, 20)\n",
            "(10127,)\n"
          ],
          "name": "stdout"
        }
      ]
    },
    {
      "cell_type": "code",
      "metadata": {
        "colab": {
          "base_uri": "https://localhost:8080/"
        },
        "id": "Nqviyv0FUpCt",
        "outputId": "77ec5d0f-2ff6-49d7-9830-3559502c63aa"
      },
      "source": [
        "os =  RandomOverSampler(ratio=1)\n",
        "X_train_res, y_train_res = os.fit_sample(X, y)"
      ],
      "execution_count": 14,
      "outputs": [
        {
          "output_type": "stream",
          "text": [
            "/usr/local/lib/python3.7/dist-packages/sklearn/utils/deprecation.py:87: FutureWarning: Function safe_indexing is deprecated; safe_indexing is deprecated in version 0.22 and will be removed in version 0.24.\n",
            "  warnings.warn(msg, category=FutureWarning)\n"
          ],
          "name": "stderr"
        }
      ]
    },
    {
      "cell_type": "code",
      "metadata": {
        "colab": {
          "base_uri": "https://localhost:8080/"
        },
        "id": "VmMrSxAjQanz",
        "outputId": "27252767-5492-464a-a716-8a80326f08ea"
      },
      "source": [
        "print(X_train_res.shape)\n",
        "print(y_train_res.shape)"
      ],
      "execution_count": 15,
      "outputs": [
        {
          "output_type": "stream",
          "text": [
            "(17000, 20)\n",
            "(17000,)\n"
          ],
          "name": "stdout"
        }
      ]
    },
    {
      "cell_type": "code",
      "metadata": {
        "colab": {
          "base_uri": "https://localhost:8080/"
        },
        "id": "IdsiIeWlUpFH",
        "outputId": "b65ba2fb-e88b-46b3-a334-7eb9276779cd"
      },
      "source": [
        "print('Original dataset shape {}'.format(Counter(y)))\n",
        "print('Resampled dataset shape {}'.format(Counter(y_train_res)))"
      ],
      "execution_count": 16,
      "outputs": [
        {
          "output_type": "stream",
          "text": [
            "Original dataset shape Counter({'Existing Customer': 8500, 'Attrited Customer': 1627})\n",
            "Resampled dataset shape Counter({'Existing Customer': 8500, 'Attrited Customer': 8500})\n"
          ],
          "name": "stdout"
        }
      ]
    },
    {
      "cell_type": "code",
      "metadata": {
        "colab": {
          "base_uri": "https://localhost:8080/"
        },
        "id": "MW7nZKb0UpH0",
        "outputId": "dff41e59-ebc3-4e38-f5d9-4aa6778395b2"
      },
      "source": [
        "data_res = pd.DataFrame(X_train_res, columns=X.columns)\n",
        "data_res['Attrition_Flag'] = y_train_res\n",
        "print(data_res.shape)"
      ],
      "execution_count": 17,
      "outputs": [
        {
          "output_type": "stream",
          "text": [
            "(17000, 21)\n"
          ],
          "name": "stdout"
        }
      ]
    },
    {
      "cell_type": "code",
      "metadata": {
        "id": "MOGb3DM9Xyeu"
      },
      "source": [
        ""
      ],
      "execution_count": 17,
      "outputs": []
    },
    {
      "cell_type": "markdown",
      "metadata": {
        "id": "4TV5XRCaXy4M"
      },
      "source": [
        "##Encoding the categorial data, splitting the dataset and perform feature scaling"
      ]
    },
    {
      "cell_type": "code",
      "metadata": {
        "colab": {
          "base_uri": "https://localhost:8080/",
          "height": 312
        },
        "id": "coH80R9_XzcU",
        "outputId": "b88dd6a2-4915-41ed-94d0-ba7252cb04af"
      },
      "source": [
        "data_res.head()"
      ],
      "execution_count": 18,
      "outputs": [
        {
          "output_type": "execute_result",
          "data": {
            "text/html": [
              "<div>\n",
              "<style scoped>\n",
              "    .dataframe tbody tr th:only-of-type {\n",
              "        vertical-align: middle;\n",
              "    }\n",
              "\n",
              "    .dataframe tbody tr th {\n",
              "        vertical-align: top;\n",
              "    }\n",
              "\n",
              "    .dataframe thead th {\n",
              "        text-align: right;\n",
              "    }\n",
              "</style>\n",
              "<table border=\"1\" class=\"dataframe\">\n",
              "  <thead>\n",
              "    <tr style=\"text-align: right;\">\n",
              "      <th></th>\n",
              "      <th>CLIENTNUM</th>\n",
              "      <th>Customer_Age</th>\n",
              "      <th>Gender</th>\n",
              "      <th>Dependent_count</th>\n",
              "      <th>Education_Level</th>\n",
              "      <th>Marital_Status</th>\n",
              "      <th>Income_Category</th>\n",
              "      <th>Card_Category</th>\n",
              "      <th>Months_on_book</th>\n",
              "      <th>Total_Relationship_Count</th>\n",
              "      <th>Months_Inactive_12_mon</th>\n",
              "      <th>Contacts_Count_12_mon</th>\n",
              "      <th>Credit_Limit</th>\n",
              "      <th>Total_Revolving_Bal</th>\n",
              "      <th>Avg_Open_To_Buy</th>\n",
              "      <th>Total_Amt_Chng_Q4_Q1</th>\n",
              "      <th>Total_Trans_Amt</th>\n",
              "      <th>Total_Trans_Ct</th>\n",
              "      <th>Total_Ct_Chng_Q4_Q1</th>\n",
              "      <th>Avg_Utilization_Ratio</th>\n",
              "      <th>Attrition_Flag</th>\n",
              "    </tr>\n",
              "  </thead>\n",
              "  <tbody>\n",
              "    <tr>\n",
              "      <th>0</th>\n",
              "      <td>768805383</td>\n",
              "      <td>45</td>\n",
              "      <td>M</td>\n",
              "      <td>3</td>\n",
              "      <td>High School</td>\n",
              "      <td>Married</td>\n",
              "      <td>$60K - $80K</td>\n",
              "      <td>Blue</td>\n",
              "      <td>39</td>\n",
              "      <td>5</td>\n",
              "      <td>1</td>\n",
              "      <td>3</td>\n",
              "      <td>12691</td>\n",
              "      <td>777</td>\n",
              "      <td>11914</td>\n",
              "      <td>1.335</td>\n",
              "      <td>1144</td>\n",
              "      <td>42</td>\n",
              "      <td>1.625</td>\n",
              "      <td>0.061</td>\n",
              "      <td>Existing Customer</td>\n",
              "    </tr>\n",
              "    <tr>\n",
              "      <th>1</th>\n",
              "      <td>818770008</td>\n",
              "      <td>49</td>\n",
              "      <td>F</td>\n",
              "      <td>5</td>\n",
              "      <td>Graduate</td>\n",
              "      <td>Single</td>\n",
              "      <td>Less than $40K</td>\n",
              "      <td>Blue</td>\n",
              "      <td>44</td>\n",
              "      <td>6</td>\n",
              "      <td>1</td>\n",
              "      <td>2</td>\n",
              "      <td>8256</td>\n",
              "      <td>864</td>\n",
              "      <td>7392</td>\n",
              "      <td>1.541</td>\n",
              "      <td>1291</td>\n",
              "      <td>33</td>\n",
              "      <td>3.714</td>\n",
              "      <td>0.105</td>\n",
              "      <td>Existing Customer</td>\n",
              "    </tr>\n",
              "    <tr>\n",
              "      <th>2</th>\n",
              "      <td>713982108</td>\n",
              "      <td>51</td>\n",
              "      <td>M</td>\n",
              "      <td>3</td>\n",
              "      <td>Graduate</td>\n",
              "      <td>Married</td>\n",
              "      <td>$80K - $120K</td>\n",
              "      <td>Blue</td>\n",
              "      <td>36</td>\n",
              "      <td>4</td>\n",
              "      <td>1</td>\n",
              "      <td>0</td>\n",
              "      <td>3418</td>\n",
              "      <td>0</td>\n",
              "      <td>3418</td>\n",
              "      <td>2.594</td>\n",
              "      <td>1887</td>\n",
              "      <td>20</td>\n",
              "      <td>2.333</td>\n",
              "      <td>0</td>\n",
              "      <td>Existing Customer</td>\n",
              "    </tr>\n",
              "    <tr>\n",
              "      <th>3</th>\n",
              "      <td>769911858</td>\n",
              "      <td>40</td>\n",
              "      <td>F</td>\n",
              "      <td>4</td>\n",
              "      <td>High School</td>\n",
              "      <td>Unknown</td>\n",
              "      <td>Less than $40K</td>\n",
              "      <td>Blue</td>\n",
              "      <td>34</td>\n",
              "      <td>3</td>\n",
              "      <td>4</td>\n",
              "      <td>1</td>\n",
              "      <td>3313</td>\n",
              "      <td>2517</td>\n",
              "      <td>796</td>\n",
              "      <td>1.405</td>\n",
              "      <td>1171</td>\n",
              "      <td>20</td>\n",
              "      <td>2.333</td>\n",
              "      <td>0.76</td>\n",
              "      <td>Existing Customer</td>\n",
              "    </tr>\n",
              "    <tr>\n",
              "      <th>4</th>\n",
              "      <td>709106358</td>\n",
              "      <td>40</td>\n",
              "      <td>M</td>\n",
              "      <td>3</td>\n",
              "      <td>Uneducated</td>\n",
              "      <td>Married</td>\n",
              "      <td>$60K - $80K</td>\n",
              "      <td>Blue</td>\n",
              "      <td>21</td>\n",
              "      <td>5</td>\n",
              "      <td>1</td>\n",
              "      <td>0</td>\n",
              "      <td>4716</td>\n",
              "      <td>0</td>\n",
              "      <td>4716</td>\n",
              "      <td>2.175</td>\n",
              "      <td>816</td>\n",
              "      <td>28</td>\n",
              "      <td>2.5</td>\n",
              "      <td>0</td>\n",
              "      <td>Existing Customer</td>\n",
              "    </tr>\n",
              "  </tbody>\n",
              "</table>\n",
              "</div>"
            ],
            "text/plain": [
              "   CLIENTNUM Customer_Age  ... Avg_Utilization_Ratio     Attrition_Flag\n",
              "0  768805383           45  ...                 0.061  Existing Customer\n",
              "1  818770008           49  ...                 0.105  Existing Customer\n",
              "2  713982108           51  ...                     0  Existing Customer\n",
              "3  769911858           40  ...                  0.76  Existing Customer\n",
              "4  709106358           40  ...                     0  Existing Customer\n",
              "\n",
              "[5 rows x 21 columns]"
            ]
          },
          "metadata": {
            "tags": []
          },
          "execution_count": 18
        }
      ]
    },
    {
      "cell_type": "markdown",
      "metadata": {
        "id": "zpXtfLEeac3V"
      },
      "source": [
        "Creating functions for different types of encoding"
      ]
    },
    {
      "cell_type": "code",
      "metadata": {
        "id": "oPs488iZUpLv"
      },
      "source": [
        "def binary_encode(df, column, positive_value):\n",
        "    df = df.copy()\n",
        "    df[column] = df[column].apply(lambda x: 1 if x == positive_value else 0)\n",
        "    return df\n",
        "\n",
        "def ordinal_encode(df, column, ordering):\n",
        "    df = df.copy()\n",
        "    df[column] = df[column].apply(lambda x: ordering.index(x))\n",
        "    return df\n",
        "\n",
        "def onehot_encode(df, column, prefix):\n",
        "    df = df.copy()\n",
        "    dummies = pd.get_dummies(df[column], prefix=prefix)\n",
        "    df = pd.concat([df, dummies], axis=1)\n",
        "    df = df.drop(column, axis=1)\n",
        "    return df"
      ],
      "execution_count": 19,
      "outputs": []
    },
    {
      "cell_type": "markdown",
      "metadata": {
        "id": "NtyanIZZamwH"
      },
      "source": [
        "Encoding and Scaling the data"
      ]
    },
    {
      "cell_type": "code",
      "metadata": {
        "id": "SF2Y2rugtF7O"
      },
      "source": [
        "def preprocess_inputs(df):\n",
        "    df = df.copy()\n",
        "    \n",
        "    # Encode binary columns\n",
        "    df = binary_encode(df, 'Attrition_Flag', positive_value='Attrited Customer')\n",
        "    df = binary_encode(df, 'Gender', positive_value='M')\n",
        "    \n",
        "    # Encode ordinal columns\n",
        "    education_ordering = [\n",
        "        'Uneducated',\n",
        "        'High School',\n",
        "        'College',\n",
        "        'Graduate',\n",
        "        'Post-Graduate',\n",
        "        'Doctorate'\n",
        "    ]\n",
        "    income_ordering = [\n",
        "        'Less than $40K',\n",
        "        '$40K - $60K',\n",
        "        '$60K - $80K',\n",
        "        '$80K - $120K',\n",
        "        '$120K +'\n",
        "    ]\n",
        "    df = ordinal_encode(df, 'Education_Level', ordering=education_ordering)\n",
        "    df = ordinal_encode(df, 'Income_Category', ordering=income_ordering)\n",
        "    \n",
        "    # Encode nominal columns\n",
        "    df = onehot_encode(df, 'Marital_Status', prefix='MS')\n",
        "    df = onehot_encode(df, 'Card_Category', prefix='CC')\n",
        "    \n",
        "    # Split df into X and y\n",
        "    ys = df['Attrition_Flag'].copy()\n",
        "    X_s = df.drop('Attrition_Flag', axis=1).copy()\n",
        "    \n",
        "    # Scale X with a standard scaler\n",
        "    scaler = StandardScaler()\n",
        "    Xs = pd.DataFrame(scaler.fit_transform(X_s), columns=X_s.columns)\n",
        "    \n",
        "    return Xs, ys"
      ],
      "execution_count": 20,
      "outputs": []
    },
    {
      "cell_type": "code",
      "metadata": {
        "id": "IDAxjSYe3US7"
      },
      "source": [
        "Xs, ys = preprocess_inputs(data_res)"
      ],
      "execution_count": 22,
      "outputs": []
    },
    {
      "cell_type": "markdown",
      "metadata": {
        "id": "wjnj7Y7hnTxj"
      },
      "source": [
        "Removing CLIENTNUM variable because it is unnessary"
      ]
    },
    {
      "cell_type": "code",
      "metadata": {
        "id": "NtZGJHVNnPRo"
      },
      "source": [
        "Xsp =Xs.drop('CLIENTNUM', axis=1)"
      ],
      "execution_count": 23,
      "outputs": []
    },
    {
      "cell_type": "markdown",
      "metadata": {
        "id": "KkeqzrEVas_q"
      },
      "source": [
        "Final data that is to be put to train and test"
      ]
    },
    {
      "cell_type": "code",
      "metadata": {
        "colab": {
          "base_uri": "https://localhost:8080/",
          "height": 225
        },
        "id": "qe2SlUCJfqih",
        "outputId": "ed320bbf-6693-4919-cb24-17359e46bd6d"
      },
      "source": [
        "Xsp.head()"
      ],
      "execution_count": 24,
      "outputs": [
        {
          "output_type": "execute_result",
          "data": {
            "text/html": [
              "<div>\n",
              "<style scoped>\n",
              "    .dataframe tbody tr th:only-of-type {\n",
              "        vertical-align: middle;\n",
              "    }\n",
              "\n",
              "    .dataframe tbody tr th {\n",
              "        vertical-align: top;\n",
              "    }\n",
              "\n",
              "    .dataframe thead th {\n",
              "        text-align: right;\n",
              "    }\n",
              "</style>\n",
              "<table border=\"1\" class=\"dataframe\">\n",
              "  <thead>\n",
              "    <tr style=\"text-align: right;\">\n",
              "      <th></th>\n",
              "      <th>Customer_Age</th>\n",
              "      <th>Gender</th>\n",
              "      <th>Dependent_count</th>\n",
              "      <th>Education_Level</th>\n",
              "      <th>Income_Category</th>\n",
              "      <th>Months_on_book</th>\n",
              "      <th>Total_Relationship_Count</th>\n",
              "      <th>Months_Inactive_12_mon</th>\n",
              "      <th>Contacts_Count_12_mon</th>\n",
              "      <th>Credit_Limit</th>\n",
              "      <th>Total_Revolving_Bal</th>\n",
              "      <th>Avg_Open_To_Buy</th>\n",
              "      <th>Total_Amt_Chng_Q4_Q1</th>\n",
              "      <th>Total_Trans_Amt</th>\n",
              "      <th>Total_Trans_Ct</th>\n",
              "      <th>Total_Ct_Chng_Q4_Q1</th>\n",
              "      <th>Avg_Utilization_Ratio</th>\n",
              "      <th>MS_Divorced</th>\n",
              "      <th>MS_Married</th>\n",
              "      <th>MS_Single</th>\n",
              "      <th>MS_Unknown</th>\n",
              "      <th>CC_Blue</th>\n",
              "      <th>CC_Gold</th>\n",
              "      <th>CC_Platinum</th>\n",
              "      <th>CC_Silver</th>\n",
              "    </tr>\n",
              "  </thead>\n",
              "  <tbody>\n",
              "    <tr>\n",
              "      <th>0</th>\n",
              "      <td>-0.187168</td>\n",
              "      <td>1.093793</td>\n",
              "      <td>0.479729</td>\n",
              "      <td>-0.904756</td>\n",
              "      <td>0.603237</td>\n",
              "      <td>0.374421</td>\n",
              "      <td>0.885526</td>\n",
              "      <td>-1.507768</td>\n",
              "      <td>0.295832</td>\n",
              "      <td>0.476007</td>\n",
              "      <td>-0.214802</td>\n",
              "      <td>0.497096</td>\n",
              "      <td>2.732086</td>\n",
              "      <td>-0.888901</td>\n",
              "      <td>-0.657559</td>\n",
              "      <td>3.967883</td>\n",
              "      <td>-0.612263</td>\n",
              "      <td>-0.286314</td>\n",
              "      <td>1.105936</td>\n",
              "      <td>-0.811204</td>\n",
              "      <td>-0.289906</td>\n",
              "      <td>0.268606</td>\n",
              "      <td>-0.108833</td>\n",
              "      <td>-0.052089</td>\n",
              "      <td>-0.236294</td>\n",
              "    </tr>\n",
              "    <tr>\n",
              "      <th>1</th>\n",
              "      <td>0.320021</td>\n",
              "      <td>-0.914250</td>\n",
              "      <td>2.024166</td>\n",
              "      <td>0.568929</td>\n",
              "      <td>-0.870399</td>\n",
              "      <td>1.006059</td>\n",
              "      <td>1.516268</td>\n",
              "      <td>-1.507768</td>\n",
              "      <td>-0.589425</td>\n",
              "      <td>-0.015126</td>\n",
              "      <td>-0.117264</td>\n",
              "      <td>-0.003542</td>\n",
              "      <td>3.667308</td>\n",
              "      <td>-0.841076</td>\n",
              "      <td>-1.056545</td>\n",
              "      <td>12.448549</td>\n",
              "      <td>-0.453513</td>\n",
              "      <td>-0.286314</td>\n",
              "      <td>-0.904212</td>\n",
              "      <td>1.232736</td>\n",
              "      <td>-0.289906</td>\n",
              "      <td>0.268606</td>\n",
              "      <td>-0.108833</td>\n",
              "      <td>-0.052089</td>\n",
              "      <td>-0.236294</td>\n",
              "    </tr>\n",
              "    <tr>\n",
              "      <th>2</th>\n",
              "      <td>0.573616</td>\n",
              "      <td>1.093793</td>\n",
              "      <td>0.479729</td>\n",
              "      <td>0.568929</td>\n",
              "      <td>1.340056</td>\n",
              "      <td>-0.004563</td>\n",
              "      <td>0.254783</td>\n",
              "      <td>-1.507768</td>\n",
              "      <td>-2.359938</td>\n",
              "      <td>-0.550888</td>\n",
              "      <td>-1.085914</td>\n",
              "      <td>-0.443511</td>\n",
              "      <td>8.447835</td>\n",
              "      <td>-0.647169</td>\n",
              "      <td>-1.632857</td>\n",
              "      <td>6.842135</td>\n",
              "      <td>-0.832348</td>\n",
              "      <td>-0.286314</td>\n",
              "      <td>1.105936</td>\n",
              "      <td>-0.811204</td>\n",
              "      <td>-0.289906</td>\n",
              "      <td>0.268606</td>\n",
              "      <td>-0.108833</td>\n",
              "      <td>-0.052089</td>\n",
              "      <td>-0.236294</td>\n",
              "    </tr>\n",
              "    <tr>\n",
              "      <th>3</th>\n",
              "      <td>-0.821154</td>\n",
              "      <td>-0.914250</td>\n",
              "      <td>1.251947</td>\n",
              "      <td>-0.904756</td>\n",
              "      <td>-0.870399</td>\n",
              "      <td>-0.257218</td>\n",
              "      <td>-0.375960</td>\n",
              "      <td>1.536179</td>\n",
              "      <td>-1.474681</td>\n",
              "      <td>-0.562515</td>\n",
              "      <td>1.735951</td>\n",
              "      <td>-0.733797</td>\n",
              "      <td>3.049880</td>\n",
              "      <td>-0.880117</td>\n",
              "      <td>-1.632857</td>\n",
              "      <td>6.842135</td>\n",
              "      <td>1.909694</td>\n",
              "      <td>-0.286314</td>\n",
              "      <td>-0.904212</td>\n",
              "      <td>-0.811204</td>\n",
              "      <td>3.449396</td>\n",
              "      <td>0.268606</td>\n",
              "      <td>-0.108833</td>\n",
              "      <td>-0.052089</td>\n",
              "      <td>-0.236294</td>\n",
              "    </tr>\n",
              "    <tr>\n",
              "      <th>4</th>\n",
              "      <td>-0.821154</td>\n",
              "      <td>1.093793</td>\n",
              "      <td>0.479729</td>\n",
              "      <td>-1.641599</td>\n",
              "      <td>0.603237</td>\n",
              "      <td>-1.899479</td>\n",
              "      <td>0.885526</td>\n",
              "      <td>-1.507768</td>\n",
              "      <td>-2.359938</td>\n",
              "      <td>-0.407147</td>\n",
              "      <td>-1.085914</td>\n",
              "      <td>-0.299807</td>\n",
              "      <td>6.545612</td>\n",
              "      <td>-0.995615</td>\n",
              "      <td>-1.278203</td>\n",
              "      <td>7.520101</td>\n",
              "      <td>-0.832348</td>\n",
              "      <td>-0.286314</td>\n",
              "      <td>1.105936</td>\n",
              "      <td>-0.811204</td>\n",
              "      <td>-0.289906</td>\n",
              "      <td>0.268606</td>\n",
              "      <td>-0.108833</td>\n",
              "      <td>-0.052089</td>\n",
              "      <td>-0.236294</td>\n",
              "    </tr>\n",
              "  </tbody>\n",
              "</table>\n",
              "</div>"
            ],
            "text/plain": [
              "   Customer_Age    Gender  Dependent_count  ...   CC_Gold  CC_Platinum  CC_Silver\n",
              "0     -0.187168  1.093793         0.479729  ... -0.108833    -0.052089  -0.236294\n",
              "1      0.320021 -0.914250         2.024166  ... -0.108833    -0.052089  -0.236294\n",
              "2      0.573616  1.093793         0.479729  ... -0.108833    -0.052089  -0.236294\n",
              "3     -0.821154 -0.914250         1.251947  ... -0.108833    -0.052089  -0.236294\n",
              "4     -0.821154  1.093793         0.479729  ... -0.108833    -0.052089  -0.236294\n",
              "\n",
              "[5 rows x 25 columns]"
            ]
          },
          "metadata": {
            "tags": []
          },
          "execution_count": 24
        }
      ]
    },
    {
      "cell_type": "code",
      "metadata": {
        "id": "hpzEOkwub5JB"
      },
      "source": [
        ""
      ],
      "execution_count": 24,
      "outputs": []
    },
    {
      "cell_type": "markdown",
      "metadata": {
        "id": "eJYLy2LTnrd6"
      },
      "source": [
        "## Train and test data with 70% - 30% ratio"
      ]
    },
    {
      "cell_type": "code",
      "metadata": {
        "id": "dhzvii7fWcKR"
      },
      "source": [
        "X_train, X_test, y_train, y_test = train_test_split(Xsp, ys, test_size=0.3, random_state=50)"
      ],
      "execution_count": 25,
      "outputs": []
    },
    {
      "cell_type": "markdown",
      "metadata": {
        "id": "MYQkuk7soA9g"
      },
      "source": [
        "* Logistic Regression Model"
      ]
    },
    {
      "cell_type": "code",
      "metadata": {
        "id": "FkIL795XL50Q"
      },
      "source": [
        "#Fit the Logistic Regression Model\n",
        "logmodel = LogisticRegression(random_state=50)\n",
        "logmodel.fit(X_train,y_train)\n",
        "\n",
        "#Predict the value for new, unseen data\n",
        "pred = logmodel.predict(X_test)\n",
        "\n",
        "# Find Accuracy using accuracy_score method\n",
        "logmodel_accuracy = round(metrics.accuracy_score(y_test, pred) * 100, 2)"
      ],
      "execution_count": 26,
      "outputs": []
    },
    {
      "cell_type": "markdown",
      "metadata": {
        "id": "dUd8z8hNoIxb"
      },
      "source": [
        "* Support Vector Machine Model"
      ]
    },
    {
      "cell_type": "code",
      "metadata": {
        "id": "nK0jeh6aL9gv"
      },
      "source": [
        "#Fit the Support Vector Machine Model ----------- takes longest time without preprocessing\n",
        "svcmodel = SVC(kernel='linear', random_state=50, probability=True)\n",
        "svcmodel.fit(X_train,y_train)\n",
        "\n",
        "#Predict the value for new, unseen data\n",
        "svc_pred = svcmodel.predict(X_test)\n",
        "\n",
        "# Find Accuracy using accuracy_score method\n",
        "svc_accuracy = round(metrics.accuracy_score(y_test, svc_pred) * 100, 2)"
      ],
      "execution_count": 27,
      "outputs": []
    },
    {
      "cell_type": "markdown",
      "metadata": {
        "id": "_JSupXJXoM7Y"
      },
      "source": [
        "* K-Nearest Neighbor Model"
      ]
    },
    {
      "cell_type": "code",
      "metadata": {
        "id": "4A5sZA1aPK89"
      },
      "source": [
        "#Fit the K-Nearest Neighbor Model\n",
        "knnmodel = KNeighborsClassifier(n_neighbors=5, metric='minkowski', p=2) #p=2 represents Euclidean distance, p=1 represents Manhattan Distance\n",
        "knnmodel.fit(X_train, y_train) \n",
        "  \n",
        "#Predict the value for new, unseen data\n",
        "knn_pred = knnmodel.predict(X_test)\n",
        "\n",
        "# Find Accuracy using accuracy_score method\n",
        "knn_accuracy = round(metrics.accuracy_score(y_test, knn_pred) * 100, 2)"
      ],
      "execution_count": 28,
      "outputs": []
    },
    {
      "cell_type": "markdown",
      "metadata": {
        "id": "P7ShtbZNoRVe"
      },
      "source": [
        "* Decision Tree Classification Model"
      ]
    },
    {
      "cell_type": "code",
      "metadata": {
        "id": "Rh1wfckAPPZ0"
      },
      "source": [
        "#Fit the Decision Tree Classification Model\n",
        "dtmodel = DecisionTreeClassifier(criterion = \"gini\", random_state = 50)\n",
        "dtmodel.fit(X_train, y_train) \n",
        "  \n",
        "#Predict the value for new, unseen data\n",
        "dt_pred = dtmodel.predict(X_test)\n",
        "\n",
        "# Find Accuracy using accuracy_score method\n",
        "dt_accuracy = round(metrics.accuracy_score(y_test, dt_pred) * 100, 2)"
      ],
      "execution_count": 29,
      "outputs": []
    },
    {
      "cell_type": "markdown",
      "metadata": {
        "id": "tIkDkDbdoVv6"
      },
      "source": [
        "* Random Forest Classification Model"
      ]
    },
    {
      "cell_type": "code",
      "metadata": {
        "id": "KT-lrbe-PRlr"
      },
      "source": [
        "#Fit the Random Forest Classification Model\n",
        "rfmodel = RandomForestClassifier(n_estimators = 100, criterion = 'entropy', random_state = 50)\n",
        "rfmodel.fit(X_train, y_train) \n",
        "  \n",
        "#Predict the value for new, unseen data\n",
        "rf_pred = rfmodel.predict(X_test)\n",
        "\n",
        "# Find Accuracy using accuracy_score method\n",
        "rf_accuracy = round(metrics.accuracy_score(y_test, rf_pred) * 100, 2)"
      ],
      "execution_count": 30,
      "outputs": []
    },
    {
      "cell_type": "code",
      "metadata": {
        "id": "ejC3DpXycAte"
      },
      "source": [
        ""
      ],
      "execution_count": 30,
      "outputs": []
    },
    {
      "cell_type": "markdown",
      "metadata": {
        "id": "MQE8zJJScBDl"
      },
      "source": [
        "## Showing accuracy for all of the models and generate metrics"
      ]
    },
    {
      "cell_type": "code",
      "metadata": {
        "colab": {
          "base_uri": "https://localhost:8080/",
          "height": 205
        },
        "id": "Osk1sJYuPT68",
        "outputId": "7a924f7c-b811-4da0-8ba6-74e098fc8598"
      },
      "source": [
        "# Compare Several models according to their Accuracies\n",
        "Model_Comparison = pd.DataFrame({\n",
        "    'Model': ['Logistic Regression', 'K-Nearest Neighbor', 'Support Vector Machine',\n",
        "              'Decision Tree', 'Random Forest'],\n",
        "    'Accuracy Score %': [logmodel_accuracy, knn_accuracy, svc_accuracy, dt_accuracy, rf_accuracy]})\n",
        "Model_Comparison_df = Model_Comparison.sort_values(by='Accuracy Score %', ascending=False)\n",
        "Model_Comparison_df = Model_Comparison_df.set_index('Accuracy Score %')\n",
        "Model_Comparison_df.reset_index()"
      ],
      "execution_count": 31,
      "outputs": [
        {
          "output_type": "execute_result",
          "data": {
            "text/html": [
              "<div>\n",
              "<style scoped>\n",
              "    .dataframe tbody tr th:only-of-type {\n",
              "        vertical-align: middle;\n",
              "    }\n",
              "\n",
              "    .dataframe tbody tr th {\n",
              "        vertical-align: top;\n",
              "    }\n",
              "\n",
              "    .dataframe thead th {\n",
              "        text-align: right;\n",
              "    }\n",
              "</style>\n",
              "<table border=\"1\" class=\"dataframe\">\n",
              "  <thead>\n",
              "    <tr style=\"text-align: right;\">\n",
              "      <th></th>\n",
              "      <th>Accuracy Score %</th>\n",
              "      <th>Model</th>\n",
              "    </tr>\n",
              "  </thead>\n",
              "  <tbody>\n",
              "    <tr>\n",
              "      <th>0</th>\n",
              "      <td>98.43</td>\n",
              "      <td>Random Forest</td>\n",
              "    </tr>\n",
              "    <tr>\n",
              "      <th>1</th>\n",
              "      <td>97.53</td>\n",
              "      <td>Decision Tree</td>\n",
              "    </tr>\n",
              "    <tr>\n",
              "      <th>2</th>\n",
              "      <td>90.25</td>\n",
              "      <td>K-Nearest Neighbor</td>\n",
              "    </tr>\n",
              "    <tr>\n",
              "      <th>3</th>\n",
              "      <td>84.78</td>\n",
              "      <td>Logistic Regression</td>\n",
              "    </tr>\n",
              "    <tr>\n",
              "      <th>4</th>\n",
              "      <td>84.69</td>\n",
              "      <td>Support Vector Machine</td>\n",
              "    </tr>\n",
              "  </tbody>\n",
              "</table>\n",
              "</div>"
            ],
            "text/plain": [
              "   Accuracy Score %                   Model\n",
              "0             98.43           Random Forest\n",
              "1             97.53           Decision Tree\n",
              "2             90.25      K-Nearest Neighbor\n",
              "3             84.78     Logistic Regression\n",
              "4             84.69  Support Vector Machine"
            ]
          },
          "metadata": {
            "tags": []
          },
          "execution_count": 31
        }
      ]
    },
    {
      "cell_type": "code",
      "metadata": {
        "colab": {
          "base_uri": "https://localhost:8080/"
        },
        "id": "6fGdesCHPYBs",
        "outputId": "a75221e6-7de6-4b0c-e8de-fb67fcd75f63"
      },
      "source": [
        "# Generate confusion matrix for Random Forest as it has maximum Accuracy\n",
        "conf_mat_rfmodel = confusion_matrix(y_test, rf_pred)\n",
        "conf_mat_rfmodel"
      ],
      "execution_count": 32,
      "outputs": [
        {
          "output_type": "execute_result",
          "data": {
            "text/plain": [
              "array([[2488,   68],\n",
              "       [  12, 2532]])"
            ]
          },
          "metadata": {
            "tags": []
          },
          "execution_count": 32
        }
      ]
    },
    {
      "cell_type": "code",
      "metadata": {
        "colab": {
          "base_uri": "https://localhost:8080/"
        },
        "id": "AVygZ82B1y6b",
        "outputId": "6e39a12d-22a1-4270-8af0-7eaaffd7cd54"
      },
      "source": [
        "# Generate classification report for Random Forest\n",
        "print(classification_report(y_test, rf_pred))"
      ],
      "execution_count": 33,
      "outputs": [
        {
          "output_type": "stream",
          "text": [
            "              precision    recall  f1-score   support\n",
            "\n",
            "           0       1.00      0.97      0.98      2556\n",
            "           1       0.97      1.00      0.98      2544\n",
            "\n",
            "    accuracy                           0.98      5100\n",
            "   macro avg       0.98      0.98      0.98      5100\n",
            "weighted avg       0.98      0.98      0.98      5100\n",
            "\n"
          ],
          "name": "stdout"
        }
      ]
    },
    {
      "cell_type": "markdown",
      "metadata": {
        "id": "zyIRp8JUcVxg"
      },
      "source": [
        "So, from the above report we can see that Random Forest Classification Model not only has highest accuracy, but also has very good overall performance."
      ]
    },
    {
      "cell_type": "code",
      "metadata": {
        "id": "TI6QWi3qpCbD"
      },
      "source": [
        ""
      ],
      "execution_count": 33,
      "outputs": []
    },
    {
      "cell_type": "markdown",
      "metadata": {
        "id": "_yxe_QJ9cV55"
      },
      "source": [
        "##Analyzing the dataset with probability of churn prediction"
      ]
    },
    {
      "cell_type": "markdown",
      "metadata": {
        "id": "qI1JF-4P5Xnn"
      },
      "source": [
        "Adding the predicted probablity of churn values for all the customers in a new column (slide right to see)"
      ]
    },
    {
      "cell_type": "code",
      "metadata": {
        "colab": {
          "base_uri": "https://localhost:8080/",
          "height": 312
        },
        "id": "x3qlavGrfqlY",
        "outputId": "1d4cefc1-3120-4403-94d4-dcf96bf396ba"
      },
      "source": [
        "df2 = data_res\n",
        "df2['Probability_of_Churn'] = rfmodel.predict_proba(Xsp[X_test.columns])[:,1]\n",
        "df2.head()"
      ],
      "execution_count": 34,
      "outputs": [
        {
          "output_type": "execute_result",
          "data": {
            "text/html": [
              "<div>\n",
              "<style scoped>\n",
              "    .dataframe tbody tr th:only-of-type {\n",
              "        vertical-align: middle;\n",
              "    }\n",
              "\n",
              "    .dataframe tbody tr th {\n",
              "        vertical-align: top;\n",
              "    }\n",
              "\n",
              "    .dataframe thead th {\n",
              "        text-align: right;\n",
              "    }\n",
              "</style>\n",
              "<table border=\"1\" class=\"dataframe\">\n",
              "  <thead>\n",
              "    <tr style=\"text-align: right;\">\n",
              "      <th></th>\n",
              "      <th>CLIENTNUM</th>\n",
              "      <th>Customer_Age</th>\n",
              "      <th>Gender</th>\n",
              "      <th>Dependent_count</th>\n",
              "      <th>Education_Level</th>\n",
              "      <th>Marital_Status</th>\n",
              "      <th>Income_Category</th>\n",
              "      <th>Card_Category</th>\n",
              "      <th>Months_on_book</th>\n",
              "      <th>Total_Relationship_Count</th>\n",
              "      <th>Months_Inactive_12_mon</th>\n",
              "      <th>Contacts_Count_12_mon</th>\n",
              "      <th>Credit_Limit</th>\n",
              "      <th>Total_Revolving_Bal</th>\n",
              "      <th>Avg_Open_To_Buy</th>\n",
              "      <th>Total_Amt_Chng_Q4_Q1</th>\n",
              "      <th>Total_Trans_Amt</th>\n",
              "      <th>Total_Trans_Ct</th>\n",
              "      <th>Total_Ct_Chng_Q4_Q1</th>\n",
              "      <th>Avg_Utilization_Ratio</th>\n",
              "      <th>Attrition_Flag</th>\n",
              "      <th>Probability_of_Churn</th>\n",
              "    </tr>\n",
              "  </thead>\n",
              "  <tbody>\n",
              "    <tr>\n",
              "      <th>0</th>\n",
              "      <td>768805383</td>\n",
              "      <td>45</td>\n",
              "      <td>M</td>\n",
              "      <td>3</td>\n",
              "      <td>High School</td>\n",
              "      <td>Married</td>\n",
              "      <td>$60K - $80K</td>\n",
              "      <td>Blue</td>\n",
              "      <td>39</td>\n",
              "      <td>5</td>\n",
              "      <td>1</td>\n",
              "      <td>3</td>\n",
              "      <td>12691</td>\n",
              "      <td>777</td>\n",
              "      <td>11914</td>\n",
              "      <td>1.335</td>\n",
              "      <td>1144</td>\n",
              "      <td>42</td>\n",
              "      <td>1.625</td>\n",
              "      <td>0.061</td>\n",
              "      <td>Existing Customer</td>\n",
              "      <td>0.01</td>\n",
              "    </tr>\n",
              "    <tr>\n",
              "      <th>1</th>\n",
              "      <td>818770008</td>\n",
              "      <td>49</td>\n",
              "      <td>F</td>\n",
              "      <td>5</td>\n",
              "      <td>Graduate</td>\n",
              "      <td>Single</td>\n",
              "      <td>Less than $40K</td>\n",
              "      <td>Blue</td>\n",
              "      <td>44</td>\n",
              "      <td>6</td>\n",
              "      <td>1</td>\n",
              "      <td>2</td>\n",
              "      <td>8256</td>\n",
              "      <td>864</td>\n",
              "      <td>7392</td>\n",
              "      <td>1.541</td>\n",
              "      <td>1291</td>\n",
              "      <td>33</td>\n",
              "      <td>3.714</td>\n",
              "      <td>0.105</td>\n",
              "      <td>Existing Customer</td>\n",
              "      <td>0.02</td>\n",
              "    </tr>\n",
              "    <tr>\n",
              "      <th>2</th>\n",
              "      <td>713982108</td>\n",
              "      <td>51</td>\n",
              "      <td>M</td>\n",
              "      <td>3</td>\n",
              "      <td>Graduate</td>\n",
              "      <td>Married</td>\n",
              "      <td>$80K - $120K</td>\n",
              "      <td>Blue</td>\n",
              "      <td>36</td>\n",
              "      <td>4</td>\n",
              "      <td>1</td>\n",
              "      <td>0</td>\n",
              "      <td>3418</td>\n",
              "      <td>0</td>\n",
              "      <td>3418</td>\n",
              "      <td>2.594</td>\n",
              "      <td>1887</td>\n",
              "      <td>20</td>\n",
              "      <td>2.333</td>\n",
              "      <td>0</td>\n",
              "      <td>Existing Customer</td>\n",
              "      <td>0.12</td>\n",
              "    </tr>\n",
              "    <tr>\n",
              "      <th>3</th>\n",
              "      <td>769911858</td>\n",
              "      <td>40</td>\n",
              "      <td>F</td>\n",
              "      <td>4</td>\n",
              "      <td>High School</td>\n",
              "      <td>Unknown</td>\n",
              "      <td>Less than $40K</td>\n",
              "      <td>Blue</td>\n",
              "      <td>34</td>\n",
              "      <td>3</td>\n",
              "      <td>4</td>\n",
              "      <td>1</td>\n",
              "      <td>3313</td>\n",
              "      <td>2517</td>\n",
              "      <td>796</td>\n",
              "      <td>1.405</td>\n",
              "      <td>1171</td>\n",
              "      <td>20</td>\n",
              "      <td>2.333</td>\n",
              "      <td>0.76</td>\n",
              "      <td>Existing Customer</td>\n",
              "      <td>0.00</td>\n",
              "    </tr>\n",
              "    <tr>\n",
              "      <th>4</th>\n",
              "      <td>709106358</td>\n",
              "      <td>40</td>\n",
              "      <td>M</td>\n",
              "      <td>3</td>\n",
              "      <td>Uneducated</td>\n",
              "      <td>Married</td>\n",
              "      <td>$60K - $80K</td>\n",
              "      <td>Blue</td>\n",
              "      <td>21</td>\n",
              "      <td>5</td>\n",
              "      <td>1</td>\n",
              "      <td>0</td>\n",
              "      <td>4716</td>\n",
              "      <td>0</td>\n",
              "      <td>4716</td>\n",
              "      <td>2.175</td>\n",
              "      <td>816</td>\n",
              "      <td>28</td>\n",
              "      <td>2.5</td>\n",
              "      <td>0</td>\n",
              "      <td>Existing Customer</td>\n",
              "      <td>0.08</td>\n",
              "    </tr>\n",
              "  </tbody>\n",
              "</table>\n",
              "</div>"
            ],
            "text/plain": [
              "   CLIENTNUM Customer_Age  ...     Attrition_Flag Probability_of_Churn\n",
              "0  768805383           45  ...  Existing Customer                 0.01\n",
              "1  818770008           49  ...  Existing Customer                 0.02\n",
              "2  713982108           51  ...  Existing Customer                 0.12\n",
              "3  769911858           40  ...  Existing Customer                 0.00\n",
              "4  709106358           40  ...  Existing Customer                 0.08\n",
              "\n",
              "[5 rows x 22 columns]"
            ]
          },
          "metadata": {
            "tags": []
          },
          "execution_count": 34
        }
      ]
    },
    {
      "cell_type": "markdown",
      "metadata": {
        "id": "hM-OjP8Cuchh"
      },
      "source": [
        "One of the goals of the company should be to increase customer retention. Hence, from the prediction that was made earlier, we can filter the data that contains more than 50% probablity to churn the account for Existing Customers. And then apply the methods for increasing customer retention based on the marketing strategy."
      ]
    },
    {
      "cell_type": "code",
      "metadata": {
        "colab": {
          "base_uri": "https://localhost:8080/",
          "height": 312
        },
        "id": "9UQ7jEQju5LR",
        "outputId": "a8207531-b490-4df0-8d57-686b67f6798c"
      },
      "source": [
        "df3 = df2[df2.Attrition_Flag != 'Attrited Customer']\n",
        "df4 = df3[df3.Probability_of_Churn >= 0.50]\n",
        "df4.head()"
      ],
      "execution_count": 35,
      "outputs": [
        {
          "output_type": "execute_result",
          "data": {
            "text/html": [
              "<div>\n",
              "<style scoped>\n",
              "    .dataframe tbody tr th:only-of-type {\n",
              "        vertical-align: middle;\n",
              "    }\n",
              "\n",
              "    .dataframe tbody tr th {\n",
              "        vertical-align: top;\n",
              "    }\n",
              "\n",
              "    .dataframe thead th {\n",
              "        text-align: right;\n",
              "    }\n",
              "</style>\n",
              "<table border=\"1\" class=\"dataframe\">\n",
              "  <thead>\n",
              "    <tr style=\"text-align: right;\">\n",
              "      <th></th>\n",
              "      <th>CLIENTNUM</th>\n",
              "      <th>Customer_Age</th>\n",
              "      <th>Gender</th>\n",
              "      <th>Dependent_count</th>\n",
              "      <th>Education_Level</th>\n",
              "      <th>Marital_Status</th>\n",
              "      <th>Income_Category</th>\n",
              "      <th>Card_Category</th>\n",
              "      <th>Months_on_book</th>\n",
              "      <th>Total_Relationship_Count</th>\n",
              "      <th>Months_Inactive_12_mon</th>\n",
              "      <th>Contacts_Count_12_mon</th>\n",
              "      <th>Credit_Limit</th>\n",
              "      <th>Total_Revolving_Bal</th>\n",
              "      <th>Avg_Open_To_Buy</th>\n",
              "      <th>Total_Amt_Chng_Q4_Q1</th>\n",
              "      <th>Total_Trans_Amt</th>\n",
              "      <th>Total_Trans_Ct</th>\n",
              "      <th>Total_Ct_Chng_Q4_Q1</th>\n",
              "      <th>Avg_Utilization_Ratio</th>\n",
              "      <th>Attrition_Flag</th>\n",
              "      <th>Probability_of_Churn</th>\n",
              "    </tr>\n",
              "  </thead>\n",
              "  <tbody>\n",
              "    <tr>\n",
              "      <th>56</th>\n",
              "      <td>716632758</td>\n",
              "      <td>49</td>\n",
              "      <td>F</td>\n",
              "      <td>3</td>\n",
              "      <td>Graduate</td>\n",
              "      <td>Single</td>\n",
              "      <td>Less than $40K</td>\n",
              "      <td>Blue</td>\n",
              "      <td>36</td>\n",
              "      <td>2</td>\n",
              "      <td>2</td>\n",
              "      <td>0</td>\n",
              "      <td>2802</td>\n",
              "      <td>2363</td>\n",
              "      <td>439</td>\n",
              "      <td>0.75</td>\n",
              "      <td>1295</td>\n",
              "      <td>40</td>\n",
              "      <td>0.6</td>\n",
              "      <td>0.843</td>\n",
              "      <td>Existing Customer</td>\n",
              "      <td>0.54</td>\n",
              "    </tr>\n",
              "    <tr>\n",
              "      <th>87</th>\n",
              "      <td>711743883</td>\n",
              "      <td>43</td>\n",
              "      <td>F</td>\n",
              "      <td>3</td>\n",
              "      <td>Uneducated</td>\n",
              "      <td>Single</td>\n",
              "      <td>Less than $40K</td>\n",
              "      <td>Blue</td>\n",
              "      <td>35</td>\n",
              "      <td>5</td>\n",
              "      <td>2</td>\n",
              "      <td>3</td>\n",
              "      <td>4026</td>\n",
              "      <td>0</td>\n",
              "      <td>4026</td>\n",
              "      <td>0.483</td>\n",
              "      <td>1237</td>\n",
              "      <td>32</td>\n",
              "      <td>0.6</td>\n",
              "      <td>0</td>\n",
              "      <td>Existing Customer</td>\n",
              "      <td>0.53</td>\n",
              "    </tr>\n",
              "    <tr>\n",
              "      <th>124</th>\n",
              "      <td>771075258</td>\n",
              "      <td>55</td>\n",
              "      <td>M</td>\n",
              "      <td>2</td>\n",
              "      <td>College</td>\n",
              "      <td>Single</td>\n",
              "      <td>$120K +</td>\n",
              "      <td>Silver</td>\n",
              "      <td>42</td>\n",
              "      <td>2</td>\n",
              "      <td>3</td>\n",
              "      <td>2</td>\n",
              "      <td>34516</td>\n",
              "      <td>1527</td>\n",
              "      <td>32989</td>\n",
              "      <td>0.526</td>\n",
              "      <td>1268</td>\n",
              "      <td>42</td>\n",
              "      <td>0.355</td>\n",
              "      <td>0.044</td>\n",
              "      <td>Existing Customer</td>\n",
              "      <td>0.80</td>\n",
              "    </tr>\n",
              "    <tr>\n",
              "      <th>152</th>\n",
              "      <td>712215258</td>\n",
              "      <td>50</td>\n",
              "      <td>F</td>\n",
              "      <td>1</td>\n",
              "      <td>Graduate</td>\n",
              "      <td>Single</td>\n",
              "      <td>$40K - $60K</td>\n",
              "      <td>Silver</td>\n",
              "      <td>31</td>\n",
              "      <td>2</td>\n",
              "      <td>2</td>\n",
              "      <td>3</td>\n",
              "      <td>18386</td>\n",
              "      <td>0</td>\n",
              "      <td>18386</td>\n",
              "      <td>0.868</td>\n",
              "      <td>1298</td>\n",
              "      <td>22</td>\n",
              "      <td>0.571</td>\n",
              "      <td>0</td>\n",
              "      <td>Existing Customer</td>\n",
              "      <td>0.84</td>\n",
              "    </tr>\n",
              "    <tr>\n",
              "      <th>155</th>\n",
              "      <td>713786508</td>\n",
              "      <td>42</td>\n",
              "      <td>F</td>\n",
              "      <td>5</td>\n",
              "      <td>Graduate</td>\n",
              "      <td>Married</td>\n",
              "      <td>$40K - $60K</td>\n",
              "      <td>Blue</td>\n",
              "      <td>36</td>\n",
              "      <td>3</td>\n",
              "      <td>3</td>\n",
              "      <td>3</td>\n",
              "      <td>2038</td>\n",
              "      <td>0</td>\n",
              "      <td>2038</td>\n",
              "      <td>0.786</td>\n",
              "      <td>1238</td>\n",
              "      <td>28</td>\n",
              "      <td>0.75</td>\n",
              "      <td>0</td>\n",
              "      <td>Existing Customer</td>\n",
              "      <td>0.59</td>\n",
              "    </tr>\n",
              "  </tbody>\n",
              "</table>\n",
              "</div>"
            ],
            "text/plain": [
              "     CLIENTNUM Customer_Age  ...     Attrition_Flag Probability_of_Churn\n",
              "56   716632758           49  ...  Existing Customer                 0.54\n",
              "87   711743883           43  ...  Existing Customer                 0.53\n",
              "124  771075258           55  ...  Existing Customer                 0.80\n",
              "152  712215258           50  ...  Existing Customer                 0.84\n",
              "155  713786508           42  ...  Existing Customer                 0.59\n",
              "\n",
              "[5 rows x 22 columns]"
            ]
          },
          "metadata": {
            "tags": []
          },
          "execution_count": 35
        }
      ]
    },
    {
      "cell_type": "markdown",
      "metadata": {
        "id": "qtJBxPNAuVQb"
      },
      "source": [
        "One of the most common customer retention examples is rewarding consumers for doing business with a brand. Rewards programs encourage customers to return by giving them discounts, exclusive access, or special offers.\n",
        "\n",
        "Customers who have high **average utilization ratio** and **40K+ earnings** are willing to be interested in these offers."
      ]
    },
    {
      "cell_type": "code",
      "metadata": {
        "colab": {
          "base_uri": "https://localhost:8080/",
          "height": 455
        },
        "id": "smE_NLKEwXNC",
        "outputId": "70125f6a-2708-40b5-9a2f-e3f3d37bee00"
      },
      "source": [
        "df5 = df4[df4.Avg_Utilization_Ratio > 0]\n",
        "df5 = df5[df5.Income_Category != 'Less than $40K']\n",
        "df6 = df5[[\"CLIENTNUM\", \"Avg_Utilization_Ratio\", \"Income_Category\", \"Attrition_Flag\", \"Probability_of_Churn\"]]\n",
        "df6"
      ],
      "execution_count": 36,
      "outputs": [
        {
          "output_type": "execute_result",
          "data": {
            "text/html": [
              "<div>\n",
              "<style scoped>\n",
              "    .dataframe tbody tr th:only-of-type {\n",
              "        vertical-align: middle;\n",
              "    }\n",
              "\n",
              "    .dataframe tbody tr th {\n",
              "        vertical-align: top;\n",
              "    }\n",
              "\n",
              "    .dataframe thead th {\n",
              "        text-align: right;\n",
              "    }\n",
              "</style>\n",
              "<table border=\"1\" class=\"dataframe\">\n",
              "  <thead>\n",
              "    <tr style=\"text-align: right;\">\n",
              "      <th></th>\n",
              "      <th>CLIENTNUM</th>\n",
              "      <th>Avg_Utilization_Ratio</th>\n",
              "      <th>Income_Category</th>\n",
              "      <th>Attrition_Flag</th>\n",
              "      <th>Probability_of_Churn</th>\n",
              "    </tr>\n",
              "  </thead>\n",
              "  <tbody>\n",
              "    <tr>\n",
              "      <th>124</th>\n",
              "      <td>771075258</td>\n",
              "      <td>0.044</td>\n",
              "      <td>$120K +</td>\n",
              "      <td>Existing Customer</td>\n",
              "      <td>0.80</td>\n",
              "    </tr>\n",
              "    <tr>\n",
              "      <th>245</th>\n",
              "      <td>793636308</td>\n",
              "      <td>0.355</td>\n",
              "      <td>$80K - $120K</td>\n",
              "      <td>Existing Customer</td>\n",
              "      <td>0.61</td>\n",
              "    </tr>\n",
              "    <tr>\n",
              "      <th>290</th>\n",
              "      <td>715120608</td>\n",
              "      <td>0.117</td>\n",
              "      <td>$60K - $80K</td>\n",
              "      <td>Existing Customer</td>\n",
              "      <td>0.62</td>\n",
              "    </tr>\n",
              "    <tr>\n",
              "      <th>299</th>\n",
              "      <td>754897008</td>\n",
              "      <td>0.15</td>\n",
              "      <td>$40K - $60K</td>\n",
              "      <td>Existing Customer</td>\n",
              "      <td>0.86</td>\n",
              "    </tr>\n",
              "    <tr>\n",
              "      <th>833</th>\n",
              "      <td>712763808</td>\n",
              "      <td>0.304</td>\n",
              "      <td>$60K - $80K</td>\n",
              "      <td>Existing Customer</td>\n",
              "      <td>0.51</td>\n",
              "    </tr>\n",
              "    <tr>\n",
              "      <th>1115</th>\n",
              "      <td>757266933</td>\n",
              "      <td>0.079</td>\n",
              "      <td>$60K - $80K</td>\n",
              "      <td>Existing Customer</td>\n",
              "      <td>0.51</td>\n",
              "    </tr>\n",
              "    <tr>\n",
              "      <th>1255</th>\n",
              "      <td>798158808</td>\n",
              "      <td>0.224</td>\n",
              "      <td>$40K - $60K</td>\n",
              "      <td>Existing Customer</td>\n",
              "      <td>0.51</td>\n",
              "    </tr>\n",
              "    <tr>\n",
              "      <th>1551</th>\n",
              "      <td>716253858</td>\n",
              "      <td>0.117</td>\n",
              "      <td>$80K - $120K</td>\n",
              "      <td>Existing Customer</td>\n",
              "      <td>0.60</td>\n",
              "    </tr>\n",
              "    <tr>\n",
              "      <th>2164</th>\n",
              "      <td>711173883</td>\n",
              "      <td>0.466</td>\n",
              "      <td>$120K +</td>\n",
              "      <td>Existing Customer</td>\n",
              "      <td>0.53</td>\n",
              "    </tr>\n",
              "    <tr>\n",
              "      <th>2714</th>\n",
              "      <td>714178458</td>\n",
              "      <td>0.078</td>\n",
              "      <td>$80K - $120K</td>\n",
              "      <td>Existing Customer</td>\n",
              "      <td>0.52</td>\n",
              "    </tr>\n",
              "    <tr>\n",
              "      <th>4368</th>\n",
              "      <td>715762083</td>\n",
              "      <td>0.067</td>\n",
              "      <td>$60K - $80K</td>\n",
              "      <td>Existing Customer</td>\n",
              "      <td>0.56</td>\n",
              "    </tr>\n",
              "    <tr>\n",
              "      <th>7745</th>\n",
              "      <td>709253433</td>\n",
              "      <td>0.175</td>\n",
              "      <td>$40K - $60K</td>\n",
              "      <td>Existing Customer</td>\n",
              "      <td>0.62</td>\n",
              "    </tr>\n",
              "    <tr>\n",
              "      <th>8620</th>\n",
              "      <td>711410958</td>\n",
              "      <td>0.187</td>\n",
              "      <td>$60K - $80K</td>\n",
              "      <td>Existing Customer</td>\n",
              "      <td>0.63</td>\n",
              "    </tr>\n",
              "  </tbody>\n",
              "</table>\n",
              "</div>"
            ],
            "text/plain": [
              "      CLIENTNUM Avg_Utilization_Ratio  ...     Attrition_Flag Probability_of_Churn\n",
              "124   771075258                 0.044  ...  Existing Customer                 0.80\n",
              "245   793636308                 0.355  ...  Existing Customer                 0.61\n",
              "290   715120608                 0.117  ...  Existing Customer                 0.62\n",
              "299   754897008                  0.15  ...  Existing Customer                 0.86\n",
              "833   712763808                 0.304  ...  Existing Customer                 0.51\n",
              "1115  757266933                 0.079  ...  Existing Customer                 0.51\n",
              "1255  798158808                 0.224  ...  Existing Customer                 0.51\n",
              "1551  716253858                 0.117  ...  Existing Customer                 0.60\n",
              "2164  711173883                 0.466  ...  Existing Customer                 0.53\n",
              "2714  714178458                 0.078  ...  Existing Customer                 0.52\n",
              "4368  715762083                 0.067  ...  Existing Customer                 0.56\n",
              "7745  709253433                 0.175  ...  Existing Customer                 0.62\n",
              "8620  711410958                 0.187  ...  Existing Customer                 0.63\n",
              "\n",
              "[13 rows x 5 columns]"
            ]
          },
          "metadata": {
            "tags": []
          },
          "execution_count": 36
        }
      ]
    },
    {
      "cell_type": "markdown",
      "metadata": {
        "id": "20pzdhLOxsOu"
      },
      "source": [
        "So these customers could be contacted and be offered rewardings to increase customer retention."
      ]
    },
    {
      "cell_type": "code",
      "metadata": {
        "id": "yqiSOWEuzIFR"
      },
      "source": [
        ""
      ],
      "execution_count": 36,
      "outputs": []
    },
    {
      "cell_type": "markdown",
      "metadata": {
        "id": "LV6CRFhVze55"
      },
      "source": [
        "##Conclusion"
      ]
    },
    {
      "cell_type": "markdown",
      "metadata": {
        "id": "rH4zVGfOzhyI"
      },
      "source": [
        "Among 5 of the models that I used for prediction, Random Forest Classification Model's performance was the highest. Based on the prediction for the probability to churn, I was able to find out the existing customers who are more likely to churn their accounts.\n",
        "\n",
        "Existing customers could be contacted and be offered rewardings based on the marketing strategy of the company. As a common example, I chose the customers who has high average utilization ratio and earn more than 40K to be contacted and offered rewardings.\n",
        "\n",
        "There is a slight limitation of the dataset. If there were features which gave the details of complain info, occupation of the customer or reasons to churn, then the company could use them in improving customer retention process."
      ]
    },
    {
      "cell_type": "code",
      "metadata": {
        "id": "3zogp2gpjGox"
      },
      "source": [
        ""
      ],
      "execution_count": null,
      "outputs": []
    }
  ]
}